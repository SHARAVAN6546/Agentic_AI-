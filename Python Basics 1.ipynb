{
 "cells": [
  {
   "cell_type": "code",
   "execution_count": 1,
   "id": "336591d6-1185-435a-85df-016ae98f60b3",
   "metadata": {},
   "outputs": [
    {
     "name": "stdout",
     "output_type": "stream",
     "text": [
      "5\n",
      "1\n",
      "6\n",
      "1.5\n",
      "9\n",
      "1\n",
      "1\n"
     ]
    }
   ],
   "source": [
    "#Integers\n",
    "print(3 + 2)\n",
    "print(3 - 2)\n",
    "print(3 * 2)\n",
    "print(3 / 2)\n",
    "print(3 ** 2) #exponent power\n",
    "print(3 % 2) #modulus\n",
    "print(3 // 2) #floor division"
   ]
  },
  {
   "cell_type": "code",
   "execution_count": 2,
   "id": "7f5d6cad-870a-4ceb-9868-f497db6be0e1",
   "metadata": {},
   "outputs": [
    {
     "name": "stdout",
     "output_type": "stream",
     "text": [
      "<class 'int'>\n",
      "<class 'float'>\n",
      "<class 'complex'>\n",
      "<class 'str'>\n",
      "<class 'list'>\n",
      "<class 'dict'>\n",
      "<class 'set'>\n",
      "<class 'tuple'>\n",
      "<class 'bool'>\n",
      "<class 'bool'>\n"
     ]
    }
   ],
   "source": [
    "print(type(10))\n",
    "print(type(3.14))\n",
    "print(type(1 + 3j))\n",
    "print(type('sharavan'))\n",
    "print(type([1,2,3]))\n",
    "print(type({'name':'sharavan'}))\n",
    "print(type({9.8, 3.14, 2.7}))\n",
    "print(type((9.8, 3.14, 2.7)))\n",
    "print(type(3 == 3))\n",
    "print(type(3 >= 3))"
   ]
  },
  {
   "cell_type": "code",
   "execution_count": 3,
   "id": "be674dad-ef07-47b8-9679-c75b3d51f488",
   "metadata": {},
   "outputs": [],
   "source": [
    "first_name = 'YS'\n",
    "last_name = 'sharavan'\n",
    "country = 'IND'\n",
    "city = 'AP'\n",
    "age = 20\n",
    "is_married = 'False'\n",
    "skills = ['C', 'JAVA', 'PYTHON', 'SQL']\n",
    "personal_info = {\n",
    "    'firstname':'ys',\n",
    "    'lastname':'sha',\n",
    "    'country':'IND',\n",
    "    'city':'AP'\n",
    "}"
   ]
  },
  {
   "cell_type": "code",
   "execution_count": 5,
   "id": "c93576d7-45c3-46f4-b762-ad3cbc9397ec",
   "metadata": {},
   "outputs": [
    {
     "name": "stdout",
     "output_type": "stream",
     "text": [
      "First name: YS\n",
      "First name length: 2\n",
      "Last name:  sharavan\n",
      "Last name length:  8\n",
      "Country:  IND\n",
      "City:  AP\n",
      "Age:  20\n",
      "Married:  False\n",
      "Skills:  ['C', 'JAVA', 'PYTHON', 'SQL']\n",
      "Person information:  {'firstname': 'ys', 'lastname': 'sha', 'country': 'IND', 'city': 'AP'}\n"
     ]
    }
   ],
   "source": [
    "print('First name:', first_name)\n",
    "print('First name length:', len(first_name))\n",
    "print('Last name: ', last_name)\n",
    "print('Last name length: ', len(last_name))\n",
    "print('Country: ', country)\n",
    "print('City: ', city)\n",
    "print('Age: ', age)\n",
    "print('Married: ', is_married)\n",
    "print('Skills: ', skills)\n",
    "print('Person information: ', personal_info)"
   ]
  },
  {
   "cell_type": "code",
   "execution_count": 6,
   "id": "6d9a494a-5405-4465-8950-2daf85df3cf3",
   "metadata": {},
   "outputs": [],
   "source": [
    "first_name, last_name, country, age, is_married = 'ys', 'sha', 'IND', 20, False"
   ]
  },
  {
   "cell_type": "code",
   "execution_count": 7,
   "id": "2092e99f-9be4-471b-a383-8cffe5c1d9ee",
   "metadata": {},
   "outputs": [
    {
     "name": "stdout",
     "output_type": "stream",
     "text": [
      "ys sha IND 20 False\n",
      "First name: ys\n",
      "Last name:  sha\n",
      "Country:  IND\n",
      "Age:  20\n",
      "Married:  False\n"
     ]
    }
   ],
   "source": [
    "print(first_name, last_name, country, age, is_married)\n",
    "print('First name:', first_name)\n",
    "print('Last name: ', last_name)\n",
    "print('Country: ', country)\n",
    "print('Age: ', age)\n",
    "print('Married: ', is_married)"
   ]
  },
  {
   "cell_type": "code",
   "execution_count": null,
   "id": "b19a0308-c8d2-48ff-b255-cc53cdad3372",
   "metadata": {},
   "outputs": [],
   "source": [
    "letter = 'P'\n",
    "print(letter)\n",
    "print(len(letter))\n",
    "greeting = 'Hello, World!'\n",
    "print"
   ]
  }
 ],
 "metadata": {
  "kernelspec": {
   "display_name": "Python [conda env:base] *",
   "language": "python",
   "name": "conda-base-py"
  },
  "language_info": {
   "codemirror_mode": {
    "name": "ipython",
    "version": 3
   },
   "file_extension": ".py",
   "mimetype": "text/x-python",
   "name": "python",
   "nbconvert_exporter": "python",
   "pygments_lexer": "ipython3",
   "version": "3.12.7"
  }
 },
 "nbformat": 4,
 "nbformat_minor": 5
}
