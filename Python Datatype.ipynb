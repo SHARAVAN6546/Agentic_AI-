{
 "cells": [
  {
   "cell_type": "code",
   "execution_count": 36,
   "id": "4853c46d-9dfe-4a8a-9222-09d4b401e1f7",
   "metadata": {},
   "outputs": [
    {
     "data": {
      "text/plain": [
       "'\\nPython Data types \\n - Integer Datatype\\n - Float Datatype\\n - Bool Datatype\\n - String Datatype\\n - Complex Datatype \\n '"
      ]
     },
     "execution_count": 36,
     "metadata": {},
     "output_type": "execute_result"
    }
   ],
   "source": [
    "'''\n",
    "Python Data types \n",
    " - Integer Datatype\n",
    " - Float Datatype\n",
    " - Bool Datatype\n",
    " - String Datatype\n",
    " - Complex Datatype \n",
    " '''"
   ]
  },
  {
   "cell_type": "code",
   "execution_count": 37,
   "id": "38bcaa3a-6f43-413b-a26b-0c073b533ca8",
   "metadata": {},
   "outputs": [
    {
     "name": "stdout",
     "output_type": "stream",
     "text": [
      "45\n",
      "<class 'int'>\n"
     ]
    }
   ],
   "source": [
    "#Interger Data types\n",
    "i = 45\n",
    "print(i)\n",
    "print(type(i))"
   ]
  },
  {
   "cell_type": "code",
   "execution_count": 38,
   "id": "2a3aab9e-8fa8-4e6d-bcd7-195edd926f99",
   "metadata": {},
   "outputs": [
    {
     "name": "stdout",
     "output_type": "stream",
     "text": [
      "110.56\n",
      "<class 'float'>\n"
     ]
    }
   ],
   "source": [
    "#float data type\n",
    "petrol = 110.56\n",
    "print(petrol)\n",
    "print(type(petrol))"
   ]
  },
  {
   "cell_type": "code",
   "execution_count": 39,
   "id": "18dd75c4-02ed-4f99-b4d8-0429137b81f1",
   "metadata": {},
   "outputs": [
    {
     "name": "stdout",
     "output_type": "stream",
     "text": [
      "10\n",
      "20\n",
      "30\n",
      "-10\n",
      "200\n",
      "0.5\n"
     ]
    }
   ],
   "source": [
    "i1, i2 = 10 , 20\n",
    "print(i1)\n",
    "print(i2)\n",
    "print(i1 + i2)\n",
    "print(i1 - i2)\n",
    "print(i1 * i2)\n",
    "print(i1 / i2)"
   ]
  },
  {
   "cell_type": "code",
   "execution_count": 40,
   "id": "da84ce8a-338e-40da-a6ed-589b59f0f7fa",
   "metadata": {},
   "outputs": [
    {
     "name": "stdout",
     "output_type": "stream",
     "text": [
      "nareshit\n"
     ]
    },
    {
     "data": {
      "text/plain": [
       "str"
      ]
     },
     "execution_count": 40,
     "metadata": {},
     "output_type": "execute_result"
    }
   ],
   "source": [
    "s = 'nareshit'\n",
    "print(s)\n",
    "type(s)"
   ]
  },
  {
   "cell_type": "code",
   "execution_count": 41,
   "id": "d4ffa84a-ee0c-42c6-964b-a012347fd285",
   "metadata": {},
   "outputs": [
    {
     "data": {
      "text/plain": [
       "'Data science and AI\\n        Are Irreplacable'"
      ]
     },
     "execution_count": 41,
     "metadata": {},
     "output_type": "execute_result"
    }
   ],
   "source": [
    "s2 = '''Data science and AI\n",
    "        Are Irreplacable'''\n",
    "s2"
   ]
  },
  {
   "cell_type": "code",
   "execution_count": 42,
   "id": "112cbc02-7552-4a01-ab19-c18fbe59bc31",
   "metadata": {},
   "outputs": [
    {
     "name": "stdout",
     "output_type": "stream",
     "text": [
      "n\n",
      "t\n",
      "e\n"
     ]
    }
   ],
   "source": [
    "print(s[0])  #forward indexing(left to right)\n",
    "print(s[-1]) #backward indexing(right to left)\n",
    "print(s[3])  #forward"
   ]
  },
  {
   "cell_type": "code",
   "execution_count": 43,
   "id": "9514164f-e97e-4444-9d6e-4317bf703f15",
   "metadata": {},
   "outputs": [
    {
     "data": {
      "text/plain": [
       "'res'"
      ]
     },
     "execution_count": 43,
     "metadata": {},
     "output_type": "execute_result"
    }
   ],
   "source": [
    "s[2:5]  "
   ]
  },
  {
   "cell_type": "code",
   "execution_count": 44,
   "id": "e06e6f69-9180-4285-a7fb-356d1e532ca5",
   "metadata": {},
   "outputs": [
    {
     "name": "stdout",
     "output_type": "stream",
     "text": [
      "2\n"
     ]
    }
   ],
   "source": [
    "print(True * 2)"
   ]
  }
 ],
 "metadata": {
  "kernelspec": {
   "display_name": "Python [conda env:base] *",
   "language": "python",
   "name": "conda-base-py"
  },
  "language_info": {
   "codemirror_mode": {
    "name": "ipython",
    "version": 3
   },
   "file_extension": ".py",
   "mimetype": "text/x-python",
   "name": "python",
   "nbconvert_exporter": "python",
   "pygments_lexer": "ipython3",
   "version": "3.12.7"
  }
 },
 "nbformat": 4,
 "nbformat_minor": 5
}
